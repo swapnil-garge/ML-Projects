{
  "nbformat": 4,
  "nbformat_minor": 0,
  "metadata": {
    "colab": {
      "name": "Uber data_ Regression.ipynb",
      "provenance": [],
      "collapsed_sections": [],
      "include_colab_link": true
    },
    "kernelspec": {
      "name": "python3",
      "display_name": "Python 3"
    }
  },
  "cells": [
    {
      "cell_type": "markdown",
      "metadata": {
        "id": "view-in-github",
        "colab_type": "text"
      },
      "source": [
        "<a href=\"https://colab.research.google.com/github/swapnil-garge/ML-Projects/blob/main/Uber_data__Regression.ipynb\" target=\"_parent\"><img src=\"https://colab.research.google.com/assets/colab-badge.svg\" alt=\"Open In Colab\"/></a>"
      ]
    },
    {
      "cell_type": "markdown",
      "metadata": {
        "id": "37puETfgRzzg"
      },
      "source": [
        "# Data Preprocessing "
      ]
    },
    {
      "cell_type": "markdown",
      "metadata": {
        "id": "EoRP98MpR-qj"
      },
      "source": [
        "## Importing the libraries"
      ]
    },
    {
      "cell_type": "code",
      "metadata": {
        "id": "N-qiINBQSK2g"
      },
      "source": [
        "import numpy as np\n",
        "import matplotlib.pyplot as plt\n",
        "import pandas as pd"
      ],
      "execution_count": 1,
      "outputs": []
    },
    {
      "cell_type": "markdown",
      "metadata": {
        "id": "RopL7tUZSQkT"
      },
      "source": [
        "## Importing the dataset"
      ]
    },
    {
      "cell_type": "code",
      "metadata": {
        "id": "WwEPNDWySTKm"
      },
      "source": [
        "dataset = pd.read_csv('Uber_Data.csv')\n",
        "X = dataset.iloc[:, :-1].values\n",
        "X = dataset.iloc[:,1:-1]\n",
        "y = dataset.iloc[:, -1].values"
      ],
      "execution_count": 2,
      "outputs": []
    },
    {
      "cell_type": "markdown",
      "metadata": {
        "id": "nhfKXNxlSabC"
      },
      "source": [
        "## Plotting Data"
      ]
    },
    {
      "cell_type": "code",
      "metadata": {
        "colab": {
          "base_uri": "https://localhost:8080/",
          "height": 299
        },
        "id": "LNWlcinvGI51",
        "outputId": "9546caba-46d6-4971-d123-91e0d08d9e0c"
      },
      "source": [
        "B02512_data = sum(dataset[dataset.dispatching_base_number == 'B02512'].iloc[:,-1].values)\r\n",
        "B02765_data = sum(dataset[dataset.dispatching_base_number == 'B02765'].iloc[:,-1].values)\r\n",
        "B02764_data = sum(dataset[dataset.dispatching_base_number == 'B02764'].iloc[:,-1].values)\r\n",
        "B02617_data = sum(dataset[dataset.dispatching_base_number == 'B02617'].iloc[:,-1].values)\r\n",
        "B02682_data = sum(dataset[dataset.dispatching_base_number == 'B02682'].iloc[:,-1].values)\r\n",
        "B02598_data = sum(dataset[dataset.dispatching_base_number == 'B02598'].iloc[:,-1].values)\r\n",
        "\r\n",
        "# Stack Data\r\n",
        "bar_data = pd.DataFrame({\r\n",
        "    'base':['B02512', 'B02765', 'B02764','B02617','B02682','B02598' ],\r\n",
        "    'basedata':[B02512_data, B02765_data, B02764_data,B02617_data,B02682_data,B02598_data ]\r\n",
        "})\r\n",
        "\r\n",
        "x1 = np.arange(len(bar_data.base)) \r\n",
        "width = 0.5 \r\n",
        "fig, ax = plt.subplots()\r\n",
        "rects1 = ax.bar(x1 - width/2, bar_data.basedata, width, label='Trips')\r\n",
        "\r\n",
        "# Add some text for labels, title and custom x-axis tick labels, etc.\r\n",
        "ax.set_ylabel('Trips')\r\n",
        "ax.set_title('Trips by Dispatch points')\r\n",
        "ax.set_xticks(x1)\r\n",
        "ax.set_xticklabels(bar_data.base)\r\n",
        "ax.legend()\r\n",
        "\r\n"
      ],
      "execution_count": 3,
      "outputs": [
        {
          "output_type": "execute_result",
          "data": {
            "text/plain": [
              "<matplotlib.legend.Legend at 0x7f181ecf5860>"
            ]
          },
          "metadata": {
            "tags": []
          },
          "execution_count": 3
        },
        {
          "output_type": "display_data",
          "data": {
            "image/png": "[encoded data removed]",
            "text/plain": [
              "<Figure size 432x288 with 1 Axes>"
            ]
          },
          "metadata": {
            "tags": [],
            "needs_background": "light"
          }
        }
      ]
    },
    {
      "cell_type": "markdown",
      "metadata": {
        "id": "yEs91tD2mAhc"
      },
      "source": [
        "**# Key Insight: B02764 dispatch unit is the busiet dispatch unit. If there was resouce constraints at B02764, the dispatch units that we would likely get help from are B02512 and B02765**"
      ]
    },
    {
      "cell_type": "code",
      "metadata": {
        "colab": {
          "base_uri": "https://localhost:8080/",
          "height": 299
        },
        "id": "ddXft__nPN5x",
        "outputId": "83a466fa-cc81-4e3f-ef90-f9a0393796a2"
      },
      "source": [
        "Monday_data = sum(dataset[dataset.Day == 'Monday'].iloc[:,-1].values)\r\n",
        "Tuesday_data = sum(dataset[dataset.Day == 'Tuesday'].iloc[:,-1].values)\r\n",
        "Wednesday_data = sum(dataset[dataset.Day == 'Wednesday'].iloc[:,-1].values)\r\n",
        "Thursday_data = sum(dataset[dataset.Day == 'Thursday'].iloc[:,-1].values)\r\n",
        "Friday_data = sum(dataset[dataset.Day == 'Friday'].iloc[:,-1].values)\r\n",
        "Saturday_data = sum(dataset[dataset.Day == 'Saturday'].iloc[:,-1].values)\r\n",
        "Sunday_data = sum(dataset[dataset.Day == 'Sunday'].iloc[:,-1].values)\r\n",
        "\r\n",
        "# Stack Data\r\n",
        "bar_data1 = pd.DataFrame({\r\n",
        "    'base':['Monday', 'Tuesday', 'Wednesday','Thrusday','Friday','Saturday','Sunday' ],\r\n",
        "    'basedata':[Monday_data, Tuesday_data, Wednesday_data,Thursday_data,Friday_data,Saturday_data,Sunday_data ]\r\n",
        "})\r\n",
        "\r\n",
        "\r\n",
        "x1 = np.arange(len(bar_data1.base)) \r\n",
        "width = 0.5 \r\n",
        "fig, ax = plt.subplots()\r\n",
        "rects1 = ax.bar(x1 - width/2, bar_data1.basedata, width, label='Trips')\r\n",
        "\r\n",
        "# Add some text for labels, title and custom x-axis tick labels, etc.\r\n",
        "ax.set_ylabel('Trips')\r\n",
        "ax.set_title('Trips by Weekday')\r\n",
        "ax.set_xticks(x1)\r\n",
        "ax.set_xticklabels(bar_data1.base)\r\n",
        "ax.legend()\r\n"
      ],
      "execution_count": 4,
      "outputs": [
        {
          "output_type": "execute_result",
          "data": {
            "text/plain": [
              "<matplotlib.legend.Legend at 0x7f181e7e1668>"
            ]
          },
          "metadata": {
            "tags": []
          },
          "execution_count": 4
        },
        {
          "output_type": "display_data",
          "data": {
            "image/png": "[encoded data removed]",
            "text/plain": [
              "<Figure size 432x288 with 1 Axes>"
            ]
          },
          "metadata": {
            "tags": [],
            "needs_background": "light"
          }
        }
      ]
    },
    {
      "cell_type": "markdown",
      "metadata": {
        "id": "Xoh16uCOmysa"
      },
      "source": [
        "**# Key Insight:The data is showing weekend (Thur-Sat) is the busiest time, which makes sense as typically people have more time to move out and about during weekend.** "
      ]
    },
    {
      "cell_type": "markdown",
      "metadata": {
        "id": "CriG6VzVSjcK"
      },
      "source": [
        "## Encoding categorical data"
      ]
    },
    {
      "cell_type": "markdown",
      "metadata": {
        "id": "AhSpdQWeSsFh"
      },
      "source": [
        "### Encoding the Independent Variable"
      ]
    },
    {
      "cell_type": "code",
      "metadata": {
        "id": "5hwuVddlSwVi"
      },
      "source": [
        "from sklearn.compose import ColumnTransformer\n",
        "from sklearn.preprocessing import OneHotEncoder\n",
        "ct = ColumnTransformer(transformers=[('encoder', OneHotEncoder(), [0])], remainder='passthrough')\n",
        "X = np.array(ct.fit_transform(X))\n",
        "\n",
        "from sklearn.compose import ColumnTransformer\n",
        "from sklearn.preprocessing import OneHotEncoder\n",
        "ct = ColumnTransformer(transformers=[('encoder', OneHotEncoder(), [7])], remainder='passthrough')\n",
        "X = np.array(ct.fit_transform(X))"
      ],
      "execution_count": 7,
      "outputs": []
    },
    {
      "cell_type": "markdown",
      "metadata": {
        "id": "qb_vcgm3qZKW"
      },
      "source": [
        "## Splitting the dataset into the Training set and Test set"
      ]
    },
    {
      "cell_type": "code",
      "metadata": {
        "id": "pXgA6CzlqbCl"
      },
      "source": [
        "from sklearn.model_selection import train_test_split\n",
        "X_train, X_test, y_train, y_test = train_test_split(X, y, test_size = 0.2, random_state = 1)"
      ],
      "execution_count": 8,
      "outputs": []
    },
    {
      "cell_type": "code",
      "metadata": {
        "id": "GuwQhFdKrYTM"
      },
      "source": [
        "print(X_train)"
      ],
      "execution_count": null,
      "outputs": []
    },
    {
      "cell_type": "code",
      "metadata": {
        "id": "TUrX_Tvcrbi4"
      },
      "source": [
        "print(X_test)"
      ],
      "execution_count": null,
      "outputs": []
    },
    {
      "cell_type": "code",
      "metadata": {
        "id": "sTXykB_QlRjE"
      },
      "source": [
        "print(y_test.shape)"
      ],
      "execution_count": null,
      "outputs": []
    },
    {
      "cell_type": "markdown",
      "metadata": {
        "id": "TpGqbS4TqkIR"
      },
      "source": [
        "## Feature Scaling"
      ]
    },
    {
      "cell_type": "code",
      "metadata": {
        "id": "AxjSUXFQqo-3"
      },
      "source": [
        "# Needed only for support vector regression? \n",
        "X_train_SV = X_train.copy()\n",
        "y_train_SV = y_train.copy()\n",
        "from sklearn.preprocessing import StandardScaler\n",
        "sc = StandardScaler()\n",
        "X_train_SV[:,13:] = sc.fit_transform(X_train[:,13:])\n"
      ],
      "execution_count": 9,
      "outputs": []
    },
    {
      "cell_type": "code",
      "metadata": {
        "id": "XgHCShVyTOYY"
      },
      "source": [
        "sc_y = StandardScaler()\n",
        "y_train_SV = sc_y.fit_transform(y_train.reshape(-1,1))\n",
        "#y_test = sc.transform(y_test.reshape(-1,1))\n"
      ],
      "execution_count": 10,
      "outputs": []
    },
    {
      "cell_type": "markdown",
      "metadata": {
        "id": "k-McZVsQBINc"
      },
      "source": [
        "## Training Regression models on the Training set"
      ]
    },
    {
      "cell_type": "code",
      "metadata": {
        "id": "ywPjx0L1BMiD",
        "colab": {
          "base_uri": "https://localhost:8080/"
        },
        "outputId": "cced5994-58a4-4658-b9d8-badea80cb7ef"
      },
      "source": [
        "# Multiple Linear Regression\n",
        "from sklearn.linear_model import LinearRegression\n",
        "reg1 = LinearRegression()\n",
        "reg1.fit(X_train, y_train)\n",
        "\n",
        "# Support Vector Regression\n",
        "from sklearn.svm import SVR\n",
        "reg2 = SVR(kernel = 'linear')\n",
        "reg2.fit(X_train, y_train)\n",
        "\n",
        "# Random Forest Regression\n",
        "from sklearn.ensemble import RandomForestRegressor\n",
        "reg3 = RandomForestRegressor(n_estimators = 10, random_state = 1)\n",
        "reg3.fit(X_train, y_train)\n",
        "\n",
        "# Polynomial Regression\n",
        "from sklearn.preprocessing import PolynomialFeatures\n",
        "from sklearn.linear_model import LinearRegression\n",
        "poly_reg = PolynomialFeatures(degree = 4)\n",
        "X_poly = poly_reg.fit_transform(X_train)\n",
        "reg4 = LinearRegression()\n",
        "reg4.fit(X_poly, y_train)\n",
        "\n",
        "# Decision Tree Regression\n",
        "from sklearn.tree import DecisionTreeRegressor\n",
        "reg5 = DecisionTreeRegressor(random_state = 0)\n",
        "reg5.fit(X_train, y_train)"
      ],
      "execution_count": 19,
      "outputs": [
        {
          "output_type": "execute_result",
          "data": {
            "text/plain": [
              "DecisionTreeRegressor(ccp_alpha=0.0, criterion='mse', max_depth=None,\n",
              "                      max_features=None, max_leaf_nodes=None,\n",
              "                      min_impurity_decrease=0.0, min_impurity_split=None,\n",
              "                      min_samples_leaf=1, min_samples_split=2,\n",
              "                      min_weight_fraction_leaf=0.0, presort='deprecated',\n",
              "                      random_state=0, splitter='best')"
            ]
          },
          "metadata": {
            "tags": []
          },
          "execution_count": 19
        }
      ]
    },
    {
      "cell_type": "markdown",
      "metadata": {
        "id": "xNkXL1YQBiBT"
      },
      "source": [
        "## Predicting the Test set results"
      ]
    },
    {
      "cell_type": "code",
      "metadata": {
        "id": "TQKmwvtdBkyb"
      },
      "source": [
        "#y_pred = regressor.predict(X_test)\n",
        "\n",
        "y_pred1 = reg1.predict(X_test)\n",
        "#y_pred2 = sc_y.inverse_transform(reg2.predict(sc.transform(X_test)))\n",
        "y_pred2 = reg2.predict(X_test)\n",
        "y_pred3 = reg3.predict(X_test)\n",
        "y_pred4 = reg4.predict(poly_reg.transform(X_test))\n",
        "y_pred5 = reg5.predict(X_test)\n",
        "\n",
        "#np.set_printoptions(precision=2)\n",
        "#print(np.concatenate((y_pred.reshape(len(y_pred),1), y_test.reshape(len(y_test),1)),1))\n",
        "#print(len(X_test))"
      ],
      "execution_count": 20,
      "outputs": []
    },
    {
      "cell_type": "code",
      "metadata": {
        "colab": {
          "base_uri": "https://localhost:8080/",
          "height": 295
        },
        "id": "xHYljR15LLGN",
        "outputId": "c23676bc-7e6d-4e91-9b1f-ed9ff93c39a3"
      },
      "source": [
        "plt.scatter(y_pred2, y_test, color = 'red')\r\n",
        "plt.title('Actual vs Pred ')\r\n",
        "plt.xlabel('Actual pickups')\r\n",
        "plt.ylabel('Pred pickups')\r\n",
        "plt.show()"
      ],
      "execution_count": 21,
      "outputs": [
        {
          "output_type": "display_data",
          "data": {
            "image/png": "[encoded data removed]",
            "text/plain": [
              "<Figure size 432x288 with 1 Axes>"
            ]
          },
          "metadata": {
            "tags": [],
            "needs_background": "light"
          }
        }
      ]
    },
    {
      "cell_type": "markdown",
      "metadata": {
        "id": "50DZZy0UyhLi"
      },
      "source": [
        "## Evaluating the Model Performance"
      ]
    },
    {
      "cell_type": "code",
      "metadata": {
        "id": "xPagAOKDywV4",
        "colab": {
          "base_uri": "https://localhost:8080/",
          "height": 382
        },
        "outputId": "11e71065-e20e-48c2-abb6-a414e69c73e0"
      },
      "source": [
        "from sklearn.metrics import r2_score\n",
        "r2_score(y_test, y_pred1)\n",
        "print('Regression', 'r2')\n",
        "print('Linear Regression',r2_score(y_test, y_pred1))\n",
        "print('Support Vector',r2_score(y_test, y_pred2))\n",
        "print('Random Forest',r2_score(y_test, y_pred3))\n",
        "print('Polynomial',r2_score(y_test, y_pred4))\n",
        "print('Decision Tree',r2_score(y_test, y_pred5))\n",
        "  #    np.contactenate('Support Vector',r2_score(y_test,ypred2)), \\n,\n",
        "\n",
        "plt.figure()\n",
        "plt.plot(y_test, 'm.', label='Actual')\n",
        "plt.plot(y_pred1, 'gd', label='Linear Regression')\n",
        "plt.plot(y_pred2, 'b^', label='Support Vector')\n",
        "plt.plot(y_pred3, 'ys', label='RandomForestRegressor')\n",
        "plt.plot(y_pred4, 'r*', label='Polynomial')\n",
        "plt.plot(y_pred5, 'c+', label='Decision Tree')\n",
        "\n",
        "plt.tick_params(axis='x', which='both', bottom=False, top=False,\n",
        "                labelbottom=False)\n",
        "plt.ylabel('predicted pickups')\n",
        "plt.xlabel('Test samples')\n",
        "plt.legend(loc=\"best\")\n",
        "plt.title('Regressor predictions and their average')\n",
        "\n",
        "plt.show()"
      ],
      "execution_count": 32,
      "outputs": [
        {
          "output_type": "stream",
          "text": [
            "Regression r2\n",
            "Linear Regression 0.9510150623128375\n",
            "Support Vector 0.9367097311922842\n",
            "Random Forest 0.9373508706864239\n",
            "Polynomial 0.9505862776751559\n",
            "Decision Tree 0.9369685233611375\n"
          ],
          "name": "stdout"
        },
        {
          "output_type": "display_data",
          "data": {
            "image/png": "[encoded data removed]",
            "text/plain": [
              "<Figure size 432x288 with 1 Axes>"
            ]
          },
          "metadata": {
            "tags": [],
            "needs_background": "light"
          }
        }
      ]
    },
    {
      "cell_type": "markdown",
      "metadata": {
        "id": "3mxhGB_ZVUzZ"
      },
      "source": [
        "** # Key Insight: Linear Regression works reasonably well for this dataset for predicting pickups as a function of weekday, dispatch location, and active taxis**"
      ]
    }
  ]
}